{
  "nbformat": 4,
  "nbformat_minor": 0,
  "metadata": {
    "colab": {
      "name": "Building my first ML solution.ipynb",
      "provenance": [],
      "collapsed_sections": [],
      "toc_visible": true,
      "authorship_tag": "ABX9TyP9K7dNTpOEZOFF9Dow4swF",
      "include_colab_link": true
    },
    "kernelspec": {
      "name": "python3",
      "display_name": "Python 3"
    },
    "language_info": {
      "name": "python"
    }
  },
  "cells": [
    {
      "cell_type": "markdown",
      "metadata": {
        "id": "view-in-github",
        "colab_type": "text"
      },
      "source": [
        "<a href=\"https://colab.research.google.com/github/ElAzyzNasrallah/My-first-Machine-Learning-model/blob/main/Building_my_first_ML_solution.ipynb\" target=\"_parent\"><img src=\"https://colab.research.google.com/assets/colab-badge.svg\" alt=\"Open In Colab\"/></a>"
      ]
    },
    {
      "cell_type": "markdown",
      "metadata": {
        "id": "HdZ0hE-2Wwlo"
      },
      "source": [
        "**Always follow the Machine Learning Pipeline , this step is not the first one \n",
        "First we must deal with our data**\n",
        "\n",
        "\n"
      ]
    },
    {
      "cell_type": "markdown",
      "metadata": {
        "id": "btZkHNF9bV7e"
      },
      "source": [
        "It is a simple example of Data Segregation using KFold just to understand it "
      ]
    },
    {
      "cell_type": "code",
      "metadata": {
        "colab": {
          "base_uri": "https://localhost:8080/"
        },
        "id": "1oRnkCRCalNt",
        "outputId": "f8f62f5f-37c5-402f-b06b-43889855f8f7"
      },
      "source": [
        "print('{} {:61} {}'.format('Round','Training Set','Test set'))\n",
        "for iteration,data in enumerate(KFdataset,start=1):\n",
        "  print('{:^9} {} {:^25}'.format(iteration,data[0],str(data[1])))"
      ],
      "execution_count": 11,
      "outputs": [
        {
          "output_type": "stream",
          "name": "stdout",
          "text": [
            "Round Training Set                                                  Test set\n",
            "    1     [ 4  5  6  7  8  9 10 11 12 13 14 15]         [0 1 2 3]        \n",
            "    2     [ 0  1  2  3  8  9 10 11 12 13 14 15]         [4 5 6 7]        \n",
            "    3     [ 0  1  2  3  4  5  6  7 12 13 14 15]       [ 8  9 10 11]      \n",
            "    4     [ 0  1  2  3  4  5  6  7  8  9 10 11]       [12 13 14 15]      \n"
          ]
        }
      ]
    },
    {
      "cell_type": "markdown",
      "metadata": {
        "id": "a_bHZr0wqWlM"
      },
      "source": [
        "#Training and Deploying our MachineLearning algorithm"
      ]
    },
    {
      "cell_type": "markdown",
      "metadata": {
        "id": "iWASu-r3qoAm"
      },
      "source": [
        "##Training the model \n"
      ]
    },
    {
      "cell_type": "code",
      "metadata": {
        "id": "4-sQ7FxMqqU9"
      },
      "source": [
        "import warnings\n",
        "import pandas\n",
        "from sklearn.linear_model import LinearRegression, ElasticNet, Ridge, Lasso\n",
        "from sklearn.neighbors import KNeighborsRegressor\n",
        "from sklearn.svm import SVR\n",
        "from sklearn.tree import DecisionTreeRegressor\n",
        "from sklearn.model_selection import train_test_split, KFold, cross_val_score"
      ],
      "execution_count": 12,
      "outputs": []
    },
    {
      "cell_type": "code",
      "metadata": {
        "id": "0jRJREinrhag"
      },
      "source": [
        "filename='forestfires.csv'\n",
        "names=['X','Y','month','day','FFMC','DMC','DC','ISI','temp','RH','wind','rain','area']\n",
        "df=pandas.read_csv(filename,names=names)\n",
        "df.month.replace(('jan','feb','mar','apr','may','jun','jul','aug','sep','oct','nov','dec'),(1,2,3,4,5,6,7,8,9,10,11,12),inplace=True) #All data must be numerical\n",
        "df.day.replace(('mon','tue','wed','thu','fri','sat','sun'),(1,2,3,4,5,6,7),inplace=True) #All data must be numerical"
      ],
      "execution_count": 35,
      "outputs": []
    },
    {
      "cell_type": "code",
      "metadata": {
        "id": "oqR_0lOEs3fW"
      },
      "source": [
        "array=df.values\n",
        "X=array[:,0:12]\n",
        "Y=array[:,12]"
      ],
      "execution_count": 36,
      "outputs": []
    },
    {
      "cell_type": "code",
      "metadata": {
        "id": "F72GGfU8tNut"
      },
      "source": [
        "max_error_scoring='max_error'\n",
        "neg_mean_absolute_error_scoring='neg_mean_absolute_error'\n",
        "r2_scoring='r2'\n",
        "neg_mean_squared_error_scoring='neg_mean_squared_error'"
      ],
      "execution_count": 37,
      "outputs": []
    },
    {
      "cell_type": "code",
      "metadata": {
        "id": "GQQmUyGgxVbE"
      },
      "source": [
        "models=[]\n",
        "models.append(('LR',LinearRegression()))\n",
        "models.append(('Lasso',Lasso()))\n",
        "models.append(('Ridge',Ridge()))\n",
        "models.append(('EN',ElasticNet()))\n",
        "models.append(('KNN',KNeighborsRegressor()))\n",
        "models.append(('CART',DecisionTreeRegressor()))\n",
        "models.append(('SVR',SVR()))"
      ],
      "execution_count": 38,
      "outputs": []
    },
    {
      "cell_type": "code",
      "metadata": {
        "id": "hGu1Y-0_x0H4"
      },
      "source": [
        "#Evaluate models and print results\n",
        "#results=[]\n",
        "#names=[]\n",
        "#for name, model in models:\n",
        "  #kfold = KFold(n_splits=10, random_state=7)\n",
        "  #cv_results = cross_val_score(model, X, Y, cv=kfold, scoring=max_error_scoring)\n",
        " # cv_results2 = cross_val_score(model, X, Y, cv=kfold, scoring=neg_mean_absolute_error_scoring)\n",
        " # cv_results3 = cross_val_score(model, X, Y, cv=kfold, scoring=r2_scoring)\n",
        "  #cv_results4 = cross_val_score(model, X, Y, cv=kfold, scoring=neg_mean_squared_error_scoring)\n",
        " # msg=\"%s: max error: %f, mean absolute error: %f, r2 error: %f, mean squared error: %f\" % (name, cv_results.mean(), -cv_results2.mean(), cv_results3.mean(), -cv_results4.mean())\n",
        "  #print(msg)"
      ],
      "execution_count": 41,
      "outputs": []
    },
    {
      "cell_type": "markdown",
      "metadata": {
        "id": "DI5PhFuwJqEN"
      },
      "source": [
        "Here we compared the algorithms relying on the metrics scoring we used and we finalized by choosing the **Lasso** Algorithm"
      ]
    },
    {
      "cell_type": "code",
      "metadata": {
        "id": "sL8avArf2u6U"
      },
      "source": [
        "X_train, X_test, Y_train, Y_test= train_test_split(X, Y, test_size=0.2, random_state=1, shuffle=True)"
      ],
      "execution_count": 42,
      "outputs": []
    },
    {
      "cell_type": "code",
      "metadata": {
        "colab": {
          "base_uri": "https://localhost:8080/"
        },
        "id": "Wq8HaAw198ml",
        "outputId": "9615c413-0093-407c-bf45-5fcdc3b11726"
      },
      "source": [
        "lasso_model = Lasso()\n",
        "lasso_model.fit(X_train, Y_train)"
      ],
      "execution_count": 43,
      "outputs": [
        {
          "output_type": "execute_result",
          "data": {
            "text/plain": [
              "Lasso(alpha=1.0, copy_X=True, fit_intercept=True, max_iter=1000,\n",
              "      normalize=False, positive=False, precompute=False, random_state=None,\n",
              "      selection='cyclic', tol=0.0001, warm_start=False)"
            ]
          },
          "metadata": {},
          "execution_count": 43
        }
      ]
    },
    {
      "cell_type": "code",
      "metadata": {
        "colab": {
          "base_uri": "https://localhost:8080/"
        },
        "id": "iE-HjGfE-BmM",
        "outputId": "e5e5d2ed-1c5a-4797-a0be-6c23ab522fa6"
      },
      "source": [
        "predictions=lasso_model.predict(X_test)\n",
        "print(predictions)"
      ],
      "execution_count": 44,
      "outputs": [
        {
          "output_type": "stream",
          "name": "stdout",
          "text": [
            "[ 2.94995557 10.31741163  5.11331167  8.82953603  9.37472473  2.25890375\n",
            " 16.70956165 10.21372406 12.71398315 17.82743566 12.00661147 -0.13366089\n",
            "  2.05100125  9.61362391 20.35978817  4.46999326 11.4878202   8.22013444\n",
            " 22.99636305  6.57213204 15.16990813  2.06185639  2.60841973 20.26525161\n",
            " 17.97317314 15.84725657 11.22294233 18.07415259 19.27700019  6.71476154\n",
            " 11.69520281  7.95309194 12.58956125  7.84373939 12.95490693  7.86654371\n",
            " 10.29230298 13.12601655  7.55670958 18.24618339 10.86374712  0.84185952\n",
            " 20.22670534  8.67143132 17.11750646  9.87835433 -0.41212642 12.75284261\n",
            "  7.16986389  4.50527181 26.3280149  21.87386519 20.89573415 16.78773238\n",
            " 21.87773448 16.31145194 12.17760756 21.10444723 19.24150053 13.21816328\n",
            "  8.7358127   2.11532756 23.43585742  8.45085449 13.32288157  1.14739124\n",
            "  7.81763591 13.16758569 12.31864714  7.13142564 21.82793694 15.85504258\n",
            "  7.50956744  9.03027599  9.14037809 10.44621761 19.90381093 22.18118018\n",
            " 10.29641445 15.17851613  8.17927973 16.67198374  9.15162516  7.50253282\n",
            "  5.90126189  9.41814858  9.79209886 15.47188042 15.39488468 20.51205756\n",
            " 17.11750646 19.02428808  5.74924767 12.22538794  8.97936002 -5.45683016\n",
            " 18.95471793  3.06720674 17.98535103 15.41645974  8.78316836 14.57706631\n",
            " 19.87283648  6.41984842]\n"
          ]
        }
      ]
    },
    {
      "cell_type": "markdown",
      "metadata": {
        "id": "XHE6-ZzO-dZG"
      },
      "source": [
        "##Deploying the Model"
      ]
    },
    {
      "cell_type": "code",
      "metadata": {
        "id": "t75kl2TX-f-0"
      },
      "source": [
        "import pickle\n",
        "pickle.dump(lasso_model,open('model.pkl','wb'))"
      ],
      "execution_count": 48,
      "outputs": []
    },
    {
      "cell_type": "code",
      "metadata": {
        "colab": {
          "base_uri": "https://localhost:8080/"
        },
        "id": "wTipZ9cu_DaN",
        "outputId": "f123fe03-b5b8-4aed-ce65-f3ec382567b4"
      },
      "source": [
        "!pip install flask-ngrok"
      ],
      "execution_count": 49,
      "outputs": [
        {
          "output_type": "stream",
          "name": "stdout",
          "text": [
            "Collecting flask-ngrok\n",
            "  Downloading flask_ngrok-0.0.25-py3-none-any.whl (3.1 kB)\n",
            "Requirement already satisfied: requests in /usr/local/lib/python3.7/dist-packages (from flask-ngrok) (2.23.0)\n",
            "Requirement already satisfied: Flask>=0.8 in /usr/local/lib/python3.7/dist-packages (from flask-ngrok) (1.1.4)\n",
            "Requirement already satisfied: Jinja2<3.0,>=2.10.1 in /usr/local/lib/python3.7/dist-packages (from Flask>=0.8->flask-ngrok) (2.11.3)\n",
            "Requirement already satisfied: itsdangerous<2.0,>=0.24 in /usr/local/lib/python3.7/dist-packages (from Flask>=0.8->flask-ngrok) (1.1.0)\n",
            "Requirement already satisfied: Werkzeug<2.0,>=0.15 in /usr/local/lib/python3.7/dist-packages (from Flask>=0.8->flask-ngrok) (1.0.1)\n",
            "Requirement already satisfied: click<8.0,>=5.1 in /usr/local/lib/python3.7/dist-packages (from Flask>=0.8->flask-ngrok) (7.1.2)\n",
            "Requirement already satisfied: MarkupSafe>=0.23 in /usr/local/lib/python3.7/dist-packages (from Jinja2<3.0,>=2.10.1->Flask>=0.8->flask-ngrok) (2.0.1)\n",
            "Requirement already satisfied: certifi>=2017.4.17 in /usr/local/lib/python3.7/dist-packages (from requests->flask-ngrok) (2021.5.30)\n",
            "Requirement already satisfied: idna<3,>=2.5 in /usr/local/lib/python3.7/dist-packages (from requests->flask-ngrok) (2.10)\n",
            "Requirement already satisfied: urllib3!=1.25.0,!=1.25.1,<1.26,>=1.21.1 in /usr/local/lib/python3.7/dist-packages (from requests->flask-ngrok) (1.24.3)\n",
            "Requirement already satisfied: chardet<4,>=3.0.2 in /usr/local/lib/python3.7/dist-packages (from requests->flask-ngrok) (3.0.4)\n",
            "Installing collected packages: flask-ngrok\n",
            "Successfully installed flask-ngrok-0.0.25\n"
          ]
        }
      ]
    },
    {
      "cell_type": "code",
      "metadata": {
        "id": "IMh9cMju_Kjs"
      },
      "source": [
        "from flask import Flask, request\n",
        "from flask_ngrok import run_with_ngrok\n",
        "import requests\n",
        "import numpy as np\n",
        "app = Flask(__name__)\n",
        "run_with_ngrok(app)   #starts ngrok when the app is run"
      ],
      "execution_count": 55,
      "outputs": []
    },
    {
      "cell_type": "code",
      "metadata": {
        "colab": {
          "base_uri": "https://localhost:8080/"
        },
        "id": "gVdRkjxE_N_F",
        "outputId": "551106ee-ed7a-470a-8817-438d2cb4dbad"
      },
      "source": [
        "@app.route('/predict',methods=['POST'])\n",
        "def home():\n",
        "    X = int(request.args.get('X', ''))\n",
        "    Y = int(request.args.get('Y', ''))\n",
        "    month = int(request.args.get('month', ''))\n",
        "    day = int(request.args.get('day', ''))\n",
        "    FFMC = float(request.args.get('FFMC', ''))\n",
        "    DMC = float(request.args.get('DMC', ''))\n",
        "    DC = float(request.args.get('DC', ''))\n",
        "    ISI = float(request.args.get('ISI', ''))\n",
        "    temp = float(request.args.get('temp', ''))\n",
        "    RH = float(request.args.get('RH', ''))\n",
        "    wind = float(request.args.get('wind', ''))\n",
        "    rain = float(request.args.get('rain', ''))\n",
        "    prediction = lasso_model.predict([[X, Y, month,day,FFMC,DMC,DC,ISI,temp,RH,wind,rain]])\n",
        "    print('*******************************')\n",
        "    print(prediction)\n",
        "    return 'Prediction is ' + str(prediction[0])\n",
        "      \n",
        "app.run()"
      ],
      "execution_count": 56,
      "outputs": [
        {
          "output_type": "stream",
          "name": "stdout",
          "text": [
            " * Serving Flask app \"__main__\" (lazy loading)\n",
            " * Environment: production\n",
            "\u001b[31m   WARNING: This is a development server. Do not use it in a production deployment.\u001b[0m\n",
            "\u001b[2m   Use a production WSGI server instead.\u001b[0m\n",
            " * Debug mode: off\n"
          ]
        },
        {
          "output_type": "stream",
          "name": "stderr",
          "text": [
            " * Running on http://127.0.0.1:5000/ (Press CTRL+C to quit)\n"
          ]
        },
        {
          "output_type": "stream",
          "name": "stdout",
          "text": [
            " * Running on http://cc51-34-125-108-213.ngrok.io\n",
            " * Traffic stats available on http://127.0.0.1:4040\n"
          ]
        },
        {
          "output_type": "stream",
          "name": "stderr",
          "text": [
            "127.0.0.1 - - [12/Oct/2021 19:55:00] \"\u001b[37mPOST /predict?X=7&Y=5&month=3&day=5&FFMC=86.2&DMC=26.2&DC=94.3&ISI=5.1&temp=8.2&RH=51&wind=6.7&rain=0.0 HTTP/1.1\u001b[0m\" 200 -\n"
          ]
        },
        {
          "output_type": "stream",
          "name": "stdout",
          "text": [
            "*******************************\n",
            "[6.0085497]\n"
          ]
        },
        {
          "output_type": "stream",
          "name": "stderr",
          "text": [
            "127.0.0.1 - - [12/Oct/2021 20:14:04] \"\u001b[37mPOST /predict?X=6&Y=5&month=3&day=1&FFMC=90.1&DMC=39.7&DC=86.6&ISI=6.2&temp=15.2&RH=27&wind=3.1&rain=0.0 HTTP/1.1\u001b[0m\" 200 -\n"
          ]
        },
        {
          "output_type": "stream",
          "name": "stdout",
          "text": [
            "*******************************\n",
            "[7.34248477]\n"
          ]
        }
      ]
    }
  ]
}